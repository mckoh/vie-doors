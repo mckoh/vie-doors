{
 "cells": [
  {
   "cell_type": "markdown",
   "metadata": {},
   "source": [
    "# Merging of ``DataFrames``"
   ]
  },
  {
   "cell_type": "markdown",
   "metadata": {},
   "source": [
    "## Merging"
   ]
  },
  {
   "cell_type": "code",
   "execution_count": 1,
   "metadata": {},
   "outputs": [],
   "source": [
    "from pandas import DataFrame, concat\n",
    "from viedoors import CADLoader, NPALoader, FileMerger, HMLoader, count_duplicates\n",
    "from viedoors import BSTLoader, FLTLoader, FMLoader, eliminate_duplicates"
   ]
  },
  {
   "cell_type": "code",
   "execution_count": 2,
   "metadata": {},
   "outputs": [],
   "source": [
    "obj = \"420\"\n",
    "\n",
    "cad = CADLoader(file=f\"data/{obj}/cad.xlsx\", title=\"CAD\")\n",
    "npa = NPALoader(file=f\"data/{obj}/npa.xlsx\", title=\"NPA\")\n",
    "hm = HMLoader(file=f\"data/{obj}/hm.xls\", title=\"HM\")\n",
    "bst = BSTLoader(file=f\"data/{obj}/bst.xlsx\", title=\"BST\")\n",
    "flt = FLTLoader(file=f\"data/{obj}/flt.xlsx\", title=\"FLT\")\n",
    "fm = FMLoader()\n",
    "\n",
    "df_npa = npa.get_data(prefixed=True)\n",
    "df_cad = cad.get_data(prefixed=True)\n",
    "df_hm = hm.get_data(prefixed=True)\n",
    "df_bst = bst.get_data(prefixed=True)\n",
    "df_flt = flt.get_data(prefixed=True)\n",
    "df_fm = fm.get_data(prefixed=True)"
   ]
  },
  {
   "cell_type": "markdown",
   "metadata": {},
   "source": [
    "# Merge Files"
   ]
  },
  {
   "cell_type": "code",
   "execution_count": 3,
   "metadata": {},
   "outputs": [],
   "source": [
    "merger = FileMerger(files=[df_cad, df_npa, df_hm, df_bst, df_flt, df_fm], how=\"left\")\n",
    "merge = merger.get_data_merge()"
   ]
  },
  {
   "cell_type": "markdown",
   "metadata": {},
   "source": [
    "## Consolidation"
   ]
  },
  {
   "cell_type": "code",
   "execution_count": 4,
   "metadata": {},
   "outputs": [],
   "source": [
    "merge = eliminate_duplicates(merge, \"CAD___gar_tuernummer_alt\", \"NPA___alte_tuernummer\")\n",
    "merge = eliminate_duplicates(merge, \"CAD___gar_tuernummer_alt\", \"HM___tuer_nr_alt\")\n",
    "merge = eliminate_duplicates(merge, \"CAD___gar_flucht_tuer_nr\", \"NPA___fluchtwegs_tuer_nr\")\n",
    "merge = eliminate_duplicates(merge, \"NPA___alte_tuernummer\", \"FM___brandmeldernr\")"
   ]
  },
  {
   "cell_type": "code",
   "execution_count": 5,
   "metadata": {},
   "outputs": [
    {
     "data": {
      "text/plain": [
       "array(['420 00A0104.01', '420 00A0106.01', '420 00A0106.02',\n",
       "       '420 00A0108.01', '420 00A0108.02', '420 00A0110.02',\n",
       "       '420 00A0110.03', '420 00A0201.01', '420 00A0201.02',\n",
       "       '420 00A0201.03', '420 00A0203.01', '420 00A0203.02',\n",
       "       '420 00A0205.01', '420 00A0207.01', '420 00A0306.01',\n",
       "       '420 00A0307.01', '420 00A0307.02', '420 00A0307.03',\n",
       "       '420 00A0401.01', '420 00A0401.02', '420 00A0401.03',\n",
       "       '420 00A0406.01', '420 00A0407.01', '420 00A0408.01',\n",
       "       '420 00A0408.02', '420 00A0501.01', '420 00A0502.01',\n",
       "       '420 00A0601.01', '420 00A0601.02', '420 00A0601.03',\n",
       "       '420 00A0602.01', '420 00A0603.01', '420 00A0603.03',\n",
       "       '420 00A0605.01', '420 00A0608.01', '420 00A0609.01',\n",
       "       '420 00A0702.01', '420 00A0705.01', '420 00A0709.01',\n",
       "       '420 00A0710.01', '420 00A0710.02', '420 00A0801.01',\n",
       "       '420 00A0803.01', '420 00A0803.02', '420 00A0805.01',\n",
       "       '420 00A0805.02', '420 00A0805.03', '420 00A0805.04',\n",
       "       '420 00A0805.05', '420 00A0805.06', '420 00A0807.02',\n",
       "       '420 00A0807.03', '420 00A0807.04', '420 00A0807.05',\n",
       "       '420 00A0808.01', '420 00A0808.02', '420 00A0810.01',\n",
       "       '420 00A0810.02', '420 00A0905.01', '420 00A0907.01',\n",
       "       '420 00A0909.01', '420 00A1001.01', '420 00A1001.02',\n",
       "       '420 00A1001.03', '420 00A1001.04', '420 00A1101.01',\n",
       "       '420 00A1106.01', '420 00A1201.01', '420 00A1202.01',\n",
       "       '420 00A1205.02', '420 00A1206.01', '420 00A1207.01',\n",
       "       '420 00A1208.03', '420 00A1302.01', '420 00A1305.01',\n",
       "       '420 00A1308.01', '420 00A1308.02', '420 00A1308.03',\n",
       "       '420 00A1401.01', '420 00A1402.01', '420 00A1402.02',\n",
       "       '420 00A1402.03', '420 00A1405.01', '420 00A1405.02',\n",
       "       '420 00A1505.01', '420 00A1505.02', '420 00A1506.01',\n",
       "       '420 00A1507.01', '420 00A1601.01', '420 00A1607.01',\n",
       "       '420 00A1607.02', '420 00A1607.03', '420 00A1705.01',\n",
       "       '420 00A1709.01', '420 00A1710.01', '420 00A1710.02',\n",
       "       '420 00A1801.01', '420 00A1801.02', '420 00A1801.03',\n",
       "       '420 00A1905.01', '420 00A1910.01', '420 00A2001.01',\n",
       "       '420 00A2001.02', '420 00A2001.03', '420 00A2001.04',\n",
       "       '420 00A2006.01', '420 00A2007.01', '420 00A2007.02',\n",
       "       '420 00A2007.03', '420 00A2007.04', '420 00A2007.05',\n",
       "       '420 00A2008.01', '420 00A2014.01', '420 00A2014.02',\n",
       "       '420 00A2015.01', '420 00A2106.01', '420 00A2107.01',\n",
       "       '420 00A2108.01', '420 00A2108.02', '420 00A2108.03',\n",
       "       '420 00A2109.01', '420 00A2109.02', '420 00A2110.01',\n",
       "       '420 00A2110.02', '420 00A2111.01', '420 00A2113.01',\n",
       "       '420 00A2114.01', '420 00A2114.02', '420 00A2115.01',\n",
       "       '420 00A2201.02', '420 00A2201.03', '420 00A2201.04',\n",
       "       '420 00A2206.01', '420 00A2207.01', '420 00A2208.01',\n",
       "       '420 00A2209.01', '420 00A2210.01', '420 00A2211.01',\n",
       "       '420 00A2213.01', '420 00A2214.01', '420 00A2215.01',\n",
       "       '420 00A2306.01', '420 00A2401.01', '420 00A2414.01',\n",
       "       '420 00A2601.02', '420 00A2601.03', '420 00A2601.04',\n",
       "       '420 00A2601.05', '420 00A2601.06', '420 00A2801.01',\n",
       "       '420 00A2801.02', '420 00A3001.01', '420 00A3001.02',\n",
       "       '420 00A3001.03', '420 00A3001.04', '420 00A3005.01',\n",
       "       '420 00A3106.01', '420 00A3106.03', '420 00A3108.01',\n",
       "       '420 00A3108.02', '420 00A3205.01', '420 00A3205.02',\n",
       "       '420 00A3207.01', '420 00A3401.01', '420 00A3401.02',\n",
       "       '420 00A3401.03', '420 00A3401.04', '420 00A3401.05',\n",
       "       '420 00A3401.06', '420 00A3401.07', '420 00A3405.01',\n",
       "       '420 00A3406.01', '420 00A3407.01', '420 00A3407.02',\n",
       "       '420 00A3407.03', '420 00A3408.01', '420 00A3408.02',\n",
       "       '420 00A3408.03', '420 00A3505.01', '420 00A3506.01',\n",
       "       '420 00A3506.02', '420 00A3607.01', '420 00A3608.01',\n",
       "       '420 00A3608.02', '420 00A3608.03', '420 00A3807.01',\n",
       "       '420 00A3807.02', '420 00A3809.01', '420 00A3809.02',\n",
       "       '420 00A3809.03', '420 00A3809.04', '420 00A3901.01',\n",
       "       '420 00A3901.02', '420 00A3901.03', '420 00A3901.04',\n",
       "       '420 00A3901.05', '420 00A3901.06', '420 00A3901.07',\n",
       "       '420 00A3901.08', '420 00A3901.09', '420 00A3901.10',\n",
       "       '420 00A3901.11', '420 00A3906.01', '420 00A4001.01',\n",
       "       '420 00A4005.01', '420 00A4006.01', '420 00A4007.01',\n",
       "       '420 00A4007.02', '420 00A4007.03', '420 00A4007.04',\n",
       "       '420 00A4101.01', '420 00A4102.01', '420 00A4102.02',\n",
       "       '420 00A4201.01', '420 00A4201.02', '420 00A4209.01',\n",
       "       '420 00A4301.01', '420 00A4401.01', '420 00A4401.02',\n",
       "       '420 00A4401.03', '420 00A4401.04', '420 00A4401.05',\n",
       "       '420 00A4401.06', '420 00A4401.07', '420 00A4401.08',\n",
       "       '420 00A4408.01', '420 00A4410.01', '420 00A4510.01',\n",
       "       '420 00A4601.01', '420 00A4601.02', '420 00A4608.01',\n",
       "       '420 00A4608.02', '420 00A4608.03', '420 00A4608.04',\n",
       "       '420 00A4608.05', '420 00A4608.06', '420 00A5201.01',\n",
       "       '420 00A5201.02', '420 00A5201.03', '420 00A5205.01',\n",
       "       '420 00A5206.01', '420 00A5206.02', '420 00A5206.03',\n",
       "       '420 00A5206.04', '420 00A5206.05', '420 00A5206.06',\n",
       "       '420 00A5305.01', '420 00A5401.01', '420 00A5401.02',\n",
       "       '420 00A5401.03', '420 00A4001..02', '420 00B0106.01',\n",
       "       '420 00B0106.02', '420 00B0106.03', '420 00B0205.01',\n",
       "       '420 00B0405.01', '420 00B0405.02', '420 00B0405.03',\n",
       "       '420 00B0405.04', '420 00B0405.05', '420 00B0605.02',\n",
       "       '420 00B0605.03', '420 00B0605.04', '420 00B0605.05',\n",
       "       '420 00B0805.01', '420 00B1005.01', '420 00B1005.02',\n",
       "       '420 00B1005.03', '420 00B1005.04', '420 00B1005.05',\n",
       "       '420 00B1105.01', '420 00B1105.02', '420 00B1202.01',\n",
       "       '420 00B1202.02', '420 00B1205.01', '420 00B1208.01',\n",
       "       '420 00B1208.02', '420 00B1302.01', '420 00B1302.02',\n",
       "       '420 00B1303.01', '420 00B1303.02', '420 00B1303.03',\n",
       "       '420 00B1303.04', '420 00B1304.01', '420 00B1305.01',\n",
       "       '420 00B1306.01', '420 00B1307.01', '420 00B1308.01',\n",
       "       '420 00B1403.01', '420 00B1404.01', '420 00B1406.01',\n",
       "       '420 00B1408.01', '420 00B1408.02', '420 00B1503.01',\n",
       "       '420 00B1503.02', '420 00B1504.01', '420 00B1505.01',\n",
       "       '420 00B1505.02', '420 00B1506.01', '420 00B1506.02',\n",
       "       '420 00B1605.01', '420 00B1605.02', '420 00B1607.01',\n",
       "       '420 00B1607.02', '420 00B1607.03', '420 00B1805.01',\n",
       "       '420 00B1808.01', '420 00B1808.02', '420 00B2605.01',\n",
       "       '420 00B2605.02', '420 00B2605.03', '420 00B2605.04',\n",
       "       '420 00B2605.05', '420 00B2704.01', '420 01A0222.01',\n",
       "       '420 01A0222.02', '420 01A0230.01', '420 01A0330.01',\n",
       "       '420 01A0330.02', '420 01A0330.03', '420 01A0330.04',\n",
       "       '420 01A0330.05', '420 01A0330.06', '420 01A0330.07',\n",
       "       '420 01A0334.01', '420 01A0414.01', '420 01A0414.02',\n",
       "       '420 01A0416.01', '420 01A0510.01', '420 01A0512.01',\n",
       "       '420 01A0512.02', '420 01A0512.03', '420 01A0512.04',\n",
       "       '420 01A0512.05', '420 01A0512.06', '420 01A0516.01',\n",
       "       '420 01A0517.01', '420 01A0517.02', '420 01A0616.01',\n",
       "       '420 01A0628.01', '420 01A0630.01', '420 01A0632.01',\n",
       "       '420 01A0714.01', '420 02A0132.01', '420 02A0202.01',\n",
       "       '420 02A0207.01', '420 02A0209.01', '420 02A0211.01',\n",
       "       '420 02A0211.02', '420 02A0214.01', '420 02A0217.01',\n",
       "       '420 02A0217.02', '420 02A0220.01', '420 02A0220.02',\n",
       "       '420 02A0222.01', '420 02A0222.02', '420 02A0224.01',\n",
       "       '420 02A0226.01', '420 02A0226.02', '420 02A0228.01',\n",
       "       '420 02A0230.02', '420 02A0234.01', '420 02A0235.01',\n",
       "       '420 02A0330.01', '420 02A0330.02', '420 02A0331.01',\n",
       "       '420 02A0331.02', '420 02A0335.01', '420 02A0414.01',\n",
       "       '420 02A0416.01', '420 02A0416.02', '420 02A0430.01',\n",
       "       '420 02A0430.02', '420 02A0502.01', '420 02A0504.01',\n",
       "       '420 02A0504.02', '420 02A0507.01', '420 02A0509.01',\n",
       "       '420 02A0513.01', '420 02A0513.02', '420 02A0515.01',\n",
       "       '420 02A0515.02', '420 02A0515.03', '420 02A0517.01',\n",
       "       '420 02A0519.01', '420 02A0522.01', '420 02A0522.02',\n",
       "       '420 02A0524.01', '420 02A0524.02', '420 02A0529.01',\n",
       "       '420 02A0535.01', '420 02A0612.01', '420 02A0616.01',\n",
       "       '420 02A0617.01', '420 02A0618.01', '420 02A0632.01',\n",
       "       '420 02A0714.01', '420 02A0715.01', '420 02A0715.02',\n",
       "       '420 DAA0213.01', '420 DAA0213.02', '420 DAA0216.01',\n",
       "       '420 DAA0714.01', '420 DAA0814.01', '420 K1A1305.01',\n",
       "       '420 K1A1305.02', '420 K1A2108.01', '420 K1A2205.01',\n",
       "       '420 K1A2308.01', '420 K1A2506.01', '420 Z1A4410.01'], dtype=object)"
      ]
     },
     "execution_count": 5,
     "metadata": {},
     "output_type": "execute_result"
    }
   ],
   "source": [
    "merge[\"merge\"].unique()"
   ]
  },
  {
   "cell_type": "code",
   "execution_count": 6,
   "metadata": {},
   "outputs": [
    {
     "name": "stdout",
     "output_type": "stream",
     "text": [
      "Merge lines 433\n",
      "Unique 411\n",
      "Duplicates 22\n"
     ]
    }
   ],
   "source": [
    "print(\"Merge lines\", len(merge))\n",
    "print(\"Unique\", len(merge.loc[merge[\"merge\"].duplicated()==False]))\n",
    "print(\"Duplicates\", len(merge.loc[merge[\"merge\"].duplicated()==True]))"
   ]
  },
  {
   "cell_type": "code",
   "execution_count": 7,
   "metadata": {},
   "outputs": [
    {
     "name": "stdout",
     "output_type": "stream",
     "text": [
      "        AKS-Nummer  Anzahl Duplikate\n",
      "0   420 00B1406.01                 4\n",
      "1   420 00A2001.02                 2\n",
      "2   420 00A2001.03                 2\n",
      "3   420 00A3906.01                 2\n",
      "4   420 00A2601.02                 2\n",
      "5   420 00A1205.02                 2\n",
      "6   420 00A2601.03                 2\n",
      "7   420 00B1805.01                 2\n",
      "8   420 02A0714.01                 2\n",
      "9   420 00A0205.01                 2\n",
      "10  420 00A0408.01                 2\n"
     ]
    }
   ],
   "source": [
    "cad_duplicates = count_duplicates(df_cad)\n",
    "print(cad_duplicates)"
   ]
  },
  {
   "cell_type": "markdown",
   "metadata": {},
   "source": [
    "Am Ende der Konsolidierungsphase wird der Merge als Excel-File exportiert. Davor wurden alle Duplikate eliminiert."
   ]
  },
  {
   "cell_type": "code",
   "execution_count": 8,
   "metadata": {},
   "outputs": [],
   "source": [
    "merge.to_excel(\"matching/420_match_file.xlsx\")"
   ]
  },
  {
   "cell_type": "markdown",
   "metadata": {},
   "source": [
    "## Duplicate analysis"
   ]
  },
  {
   "cell_type": "code",
   "execution_count": 23,
   "metadata": {},
   "outputs": [
    {
     "name": "stdout",
     "output_type": "stream",
     "text": [
      "---\n",
      "NPA-Datenfile\n",
      "---\n",
      "HM-Datenfile\n",
      "---\n",
      "BST-Datenfile\n",
      "---\n",
      "FLT-Datenfile\n"
     ]
    }
   ],
   "source": [
    "dps = []\n",
    "for dataset in [df_npa, df_hm, df_bst, df_flt, df_fm]:\n",
    "    name = dataset.columns[0].split(\"___\")[0]+\"-Datenfile\"\n",
    "\n",
    "    if name ==\"FM-Datenfile\":\n",
    "        break\n",
    "\n",
    "    print(\"---\")\n",
    "    print(name)\n",
    "\n",
    "    fm = FileMerger(files=[df_cad, dataset], how=\"inner\")\n",
    "    nm = fm.find_non_matching_rows()\n",
    "    nm.to_excel(f\"non_matching/CAD_versus_{name}.xlsx\")\n",
    "\n",
    "    dp = count_duplicates(dataset)\n",
    "    dp.rename(columns={\"Anzahl Duplikate\": f\"Anzahl Duplikate {name}\"}, inplace=True)\n",
    "    dps.append(dp)\n",
    "    dp.to_excel(f\"duplicates/CAD_versus_{name}.xlsx\")"
   ]
  },
  {
   "cell_type": "code",
   "execution_count": 24,
   "metadata": {},
   "outputs": [
    {
     "data": {
      "text/plain": [
       "[            AKS-Nummer  Anzahl Duplikate NPA-Datenfile\n",
       " 0       420 00B1406.01                               4\n",
       " 1   nan 00Akeine Nr.00                               3\n",
       " 2   420 02AKeine Nr.00                               3\n",
       " 3       420 00A2001.03                               2\n",
       " 4       420 00A3906.01                               2\n",
       " 5       420 00A2601.03                               2\n",
       " 6       420 00A2601.02                               2\n",
       " 7       420 00A2001.02                               2\n",
       " 8       420 00A1205.02                               2\n",
       " 9       420 00A0205.01                               2\n",
       " 10      420 00B1303.02                               2\n",
       " 11      420 00B1805.01                               2\n",
       " 12      nan 00A4601.01                               2,\n",
       "        AKS-Nummer  Anzahl Duplikate HM-Datenfile\n",
       " 0  420 02A020A.01                              2\n",
       " 1  420 00A2114.01                              2,\n",
       " Empty DataFrame\n",
       " Columns: [AKS-Nummer, Anzahl Duplikate BST-Datenfile]\n",
       " Index: [],\n",
       " Empty DataFrame\n",
       " Columns: [AKS-Nummer, Anzahl Duplikate FLT-Datenfile]\n",
       " Index: []]"
      ]
     },
     "execution_count": 24,
     "metadata": {},
     "output_type": "execute_result"
    }
   ],
   "source": [
    "dps"
   ]
  },
  {
   "cell_type": "code",
   "execution_count": 29,
   "metadata": {},
   "outputs": [],
   "source": [
    "result = dps[0].merge(dps[1], on='AKS-Nummer', how='outer').merge(dps[2], on='AKS-Nummer', how='outer').merge(dps[3], on='AKS-Nummer', how='outer')\n",
    "result.fillna(1, inplace=True)"
   ]
  },
  {
   "cell_type": "code",
   "execution_count": 30,
   "metadata": {},
   "outputs": [
    {
     "data": {
      "text/html": [
       "<div>\n",
       "<style scoped>\n",
       "    .dataframe tbody tr th:only-of-type {\n",
       "        vertical-align: middle;\n",
       "    }\n",
       "\n",
       "    .dataframe tbody tr th {\n",
       "        vertical-align: top;\n",
       "    }\n",
       "\n",
       "    .dataframe thead th {\n",
       "        text-align: right;\n",
       "    }\n",
       "</style>\n",
       "<table border=\"1\" class=\"dataframe\">\n",
       "  <thead>\n",
       "    <tr style=\"text-align: right;\">\n",
       "      <th></th>\n",
       "      <th>AKS-Nummer</th>\n",
       "      <th>Anzahl Duplikate NPA-Datenfile</th>\n",
       "      <th>Anzahl Duplikate HM-Datenfile</th>\n",
       "      <th>Anzahl Duplikate BST-Datenfile</th>\n",
       "      <th>Anzahl Duplikate FLT-Datenfile</th>\n",
       "    </tr>\n",
       "  </thead>\n",
       "  <tbody>\n",
       "    <tr>\n",
       "      <th>0</th>\n",
       "      <td>420 00A0205.01</td>\n",
       "      <td>2.0</td>\n",
       "      <td>1.0</td>\n",
       "      <td>1.0</td>\n",
       "      <td>1.0</td>\n",
       "    </tr>\n",
       "    <tr>\n",
       "      <th>1</th>\n",
       "      <td>420 00A1205.02</td>\n",
       "      <td>2.0</td>\n",
       "      <td>1.0</td>\n",
       "      <td>1.0</td>\n",
       "      <td>1.0</td>\n",
       "    </tr>\n",
       "    <tr>\n",
       "      <th>2</th>\n",
       "      <td>420 00A2001.02</td>\n",
       "      <td>2.0</td>\n",
       "      <td>1.0</td>\n",
       "      <td>1.0</td>\n",
       "      <td>1.0</td>\n",
       "    </tr>\n",
       "    <tr>\n",
       "      <th>3</th>\n",
       "      <td>420 00A2001.03</td>\n",
       "      <td>2.0</td>\n",
       "      <td>1.0</td>\n",
       "      <td>1.0</td>\n",
       "      <td>1.0</td>\n",
       "    </tr>\n",
       "    <tr>\n",
       "      <th>4</th>\n",
       "      <td>420 00A2114.01</td>\n",
       "      <td>1.0</td>\n",
       "      <td>2.0</td>\n",
       "      <td>1.0</td>\n",
       "      <td>1.0</td>\n",
       "    </tr>\n",
       "    <tr>\n",
       "      <th>5</th>\n",
       "      <td>420 00A2601.02</td>\n",
       "      <td>2.0</td>\n",
       "      <td>1.0</td>\n",
       "      <td>1.0</td>\n",
       "      <td>1.0</td>\n",
       "    </tr>\n",
       "    <tr>\n",
       "      <th>6</th>\n",
       "      <td>420 00A2601.03</td>\n",
       "      <td>2.0</td>\n",
       "      <td>1.0</td>\n",
       "      <td>1.0</td>\n",
       "      <td>1.0</td>\n",
       "    </tr>\n",
       "    <tr>\n",
       "      <th>7</th>\n",
       "      <td>420 00A3906.01</td>\n",
       "      <td>2.0</td>\n",
       "      <td>1.0</td>\n",
       "      <td>1.0</td>\n",
       "      <td>1.0</td>\n",
       "    </tr>\n",
       "    <tr>\n",
       "      <th>8</th>\n",
       "      <td>420 00B1303.02</td>\n",
       "      <td>2.0</td>\n",
       "      <td>1.0</td>\n",
       "      <td>1.0</td>\n",
       "      <td>1.0</td>\n",
       "    </tr>\n",
       "    <tr>\n",
       "      <th>9</th>\n",
       "      <td>420 00B1406.01</td>\n",
       "      <td>4.0</td>\n",
       "      <td>1.0</td>\n",
       "      <td>1.0</td>\n",
       "      <td>1.0</td>\n",
       "    </tr>\n",
       "    <tr>\n",
       "      <th>10</th>\n",
       "      <td>420 00B1805.01</td>\n",
       "      <td>2.0</td>\n",
       "      <td>1.0</td>\n",
       "      <td>1.0</td>\n",
       "      <td>1.0</td>\n",
       "    </tr>\n",
       "    <tr>\n",
       "      <th>11</th>\n",
       "      <td>420 02A020A.01</td>\n",
       "      <td>1.0</td>\n",
       "      <td>2.0</td>\n",
       "      <td>1.0</td>\n",
       "      <td>1.0</td>\n",
       "    </tr>\n",
       "    <tr>\n",
       "      <th>12</th>\n",
       "      <td>420 02AKeine Nr.00</td>\n",
       "      <td>3.0</td>\n",
       "      <td>1.0</td>\n",
       "      <td>1.0</td>\n",
       "      <td>1.0</td>\n",
       "    </tr>\n",
       "    <tr>\n",
       "      <th>13</th>\n",
       "      <td>nan 00A4601.01</td>\n",
       "      <td>2.0</td>\n",
       "      <td>1.0</td>\n",
       "      <td>1.0</td>\n",
       "      <td>1.0</td>\n",
       "    </tr>\n",
       "    <tr>\n",
       "      <th>14</th>\n",
       "      <td>nan 00Akeine Nr.00</td>\n",
       "      <td>3.0</td>\n",
       "      <td>1.0</td>\n",
       "      <td>1.0</td>\n",
       "      <td>1.0</td>\n",
       "    </tr>\n",
       "  </tbody>\n",
       "</table>\n",
       "</div>"
      ],
      "text/plain": [
       "            AKS-Nummer  Anzahl Duplikate NPA-Datenfile  \\\n",
       "0       420 00A0205.01                             2.0   \n",
       "1       420 00A1205.02                             2.0   \n",
       "2       420 00A2001.02                             2.0   \n",
       "3       420 00A2001.03                             2.0   \n",
       "4       420 00A2114.01                             1.0   \n",
       "5       420 00A2601.02                             2.0   \n",
       "6       420 00A2601.03                             2.0   \n",
       "7       420 00A3906.01                             2.0   \n",
       "8       420 00B1303.02                             2.0   \n",
       "9       420 00B1406.01                             4.0   \n",
       "10      420 00B1805.01                             2.0   \n",
       "11      420 02A020A.01                             1.0   \n",
       "12  420 02AKeine Nr.00                             3.0   \n",
       "13      nan 00A4601.01                             2.0   \n",
       "14  nan 00Akeine Nr.00                             3.0   \n",
       "\n",
       "    Anzahl Duplikate HM-Datenfile  Anzahl Duplikate BST-Datenfile  \\\n",
       "0                             1.0                             1.0   \n",
       "1                             1.0                             1.0   \n",
       "2                             1.0                             1.0   \n",
       "3                             1.0                             1.0   \n",
       "4                             2.0                             1.0   \n",
       "5                             1.0                             1.0   \n",
       "6                             1.0                             1.0   \n",
       "7                             1.0                             1.0   \n",
       "8                             1.0                             1.0   \n",
       "9                             1.0                             1.0   \n",
       "10                            1.0                             1.0   \n",
       "11                            2.0                             1.0   \n",
       "12                            1.0                             1.0   \n",
       "13                            1.0                             1.0   \n",
       "14                            1.0                             1.0   \n",
       "\n",
       "    Anzahl Duplikate FLT-Datenfile  \n",
       "0                              1.0  \n",
       "1                              1.0  \n",
       "2                              1.0  \n",
       "3                              1.0  \n",
       "4                              1.0  \n",
       "5                              1.0  \n",
       "6                              1.0  \n",
       "7                              1.0  \n",
       "8                              1.0  \n",
       "9                              1.0  \n",
       "10                             1.0  \n",
       "11                             1.0  \n",
       "12                             1.0  \n",
       "13                             1.0  \n",
       "14                             1.0  "
      ]
     },
     "execution_count": 30,
     "metadata": {},
     "output_type": "execute_result"
    }
   ],
   "source": [
    "result"
   ]
  },
  {
   "cell_type": "code",
   "execution_count": null,
   "metadata": {},
   "outputs": [],
   "source": []
  }
 ],
 "metadata": {
  "kernelspec": {
   "display_name": "Python 3",
   "language": "python",
   "name": "python3"
  },
  "language_info": {
   "codemirror_mode": {
    "name": "ipython",
    "version": 3
   },
   "file_extension": ".py",
   "mimetype": "text/x-python",
   "name": "python",
   "nbconvert_exporter": "python",
   "pygments_lexer": "ipython3",
   "version": "3.13.0"
  }
 },
 "nbformat": 4,
 "nbformat_minor": 2
}
