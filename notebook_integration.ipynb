{
 "cells": [
  {
   "cell_type": "markdown",
   "metadata": {},
   "source": [
    "# Merging of ``DataFrames``"
   ]
  },
  {
   "cell_type": "markdown",
   "metadata": {},
   "source": [
    "## Merging"
   ]
  },
  {
   "cell_type": "code",
   "execution_count": 1,
   "metadata": {},
   "outputs": [],
   "source": [
    "from pandas import DataFrame, concat\n",
    "from viedoors import CADLoader, NPALoader, FileMerger, HMLoader, count_duplicates\n",
    "from viedoors import BSTLoader, FLTLoader, FMLoader, eliminate_duplicates"
   ]
  },
  {
   "cell_type": "code",
   "execution_count": 2,
   "metadata": {},
   "outputs": [],
   "source": [
    "obj = \"420\"\n",
    "\n",
    "cad = CADLoader(file=f\"data/{obj}/cad.xlsx\", title=\"CAD\")\n",
    "npa = NPALoader(file=f\"data/{obj}/npa.xlsx\", title=\"NPA\")\n",
    "hm = HMLoader(file=f\"data/{obj}/hm.xls\", title=\"HM\")\n",
    "bst = BSTLoader(file=f\"data/{obj}/bst.xlsx\", title=\"BST\")\n",
    "flt = FLTLoader(file=f\"data/{obj}/flt.xlsx\", title=\"FLT\")\n",
    "fm = FMLoader()\n",
    "\n",
    "df_npa = npa.get_data(prefixed=True)\n",
    "df_cad = cad.get_data(prefixed=True)\n",
    "df_hm = hm.get_data(prefixed=True)\n",
    "df_bst = bst.get_data(prefixed=True)\n",
    "df_flt = flt.get_data(prefixed=True)\n",
    "df_fm = fm.get_data(prefixed=True)"
   ]
  },
  {
   "cell_type": "markdown",
   "metadata": {},
   "source": [
    "# Merge Files"
   ]
  },
  {
   "cell_type": "code",
   "execution_count": 3,
   "metadata": {},
   "outputs": [],
   "source": [
    "merger = FileMerger(files=[df_cad, df_npa, df_hm, df_bst, df_flt, df_fm], how=\"left\")\n",
    "merge = merger.get_data_merge()"
   ]
  },
  {
   "cell_type": "markdown",
   "metadata": {},
   "source": [
    "## Consolidation"
   ]
  },
  {
   "cell_type": "code",
   "execution_count": 4,
   "metadata": {},
   "outputs": [],
   "source": [
    "merge, info = eliminate_duplicates(merge, \"CAD___gar_tuernummer_alt\", \"NPA___alte_tuernummer\")"
   ]
  },
  {
   "cell_type": "code",
   "execution_count": 5,
   "metadata": {},
   "outputs": [],
   "source": [
    "merge, info = eliminate_duplicates(merge, \"CAD___gar_tuernummer_alt\", \"HM___tuer_nr_alt\", info)\n",
    "merge, info = eliminate_duplicates(merge, \"CAD___gar_flucht_tuer_nr\", \"NPA___fluchtwegs_tuer_nr\", info)\n",
    "merge, info = eliminate_duplicates(merge, \"NPA___alte_tuernummer\", \"FM___brandmeldernr\", info)"
   ]
  },
  {
   "cell_type": "code",
   "execution_count": 6,
   "metadata": {},
   "outputs": [
    {
     "data": {
      "text/plain": [
       "{'420 00A0205.01': 2,\n",
       " '420 00A0408.01': 1,\n",
       " '420 00A1205.02': 2,\n",
       " '420 00A2001.02': 2,\n",
       " '420 00A2001.03': 2,\n",
       " '420 00A2601.02': 3,\n",
       " '420 00A2601.03': 2,\n",
       " '420 00A3906.01': 3,\n",
       " '420 00B1805.01': 3,\n",
       " '420 02A0714.01': 1,\n",
       " '420 00A2114.01': 1}"
      ]
     },
     "execution_count": 6,
     "metadata": {},
     "output_type": "execute_result"
    }
   ],
   "source": [
    "info"
   ]
  },
  {
   "cell_type": "code",
   "execution_count": 6,
   "metadata": {},
   "outputs": [
    {
     "name": "stdout",
     "output_type": "stream",
     "text": [
      "Merge lines 433\n",
      "Unique 411\n",
      "Duplicates 22\n"
     ]
    }
   ],
   "source": [
    "print(\"Merge lines\", len(merge))\n",
    "print(\"Unique\", len(merge.loc[merge[\"merge\"].duplicated()==False]))\n",
    "print(\"Duplicates\", len(merge.loc[merge[\"merge\"].duplicated()==True]))"
   ]
  },
  {
   "cell_type": "code",
   "execution_count": 7,
   "metadata": {},
   "outputs": [
    {
     "name": "stdout",
     "output_type": "stream",
     "text": [
      "        AKS-Nummer  Anzahl Duplikate\n",
      "0   420 00B1406.01                 4\n",
      "1   420 00A2001.02                 2\n",
      "2   420 00A2001.03                 2\n",
      "3   420 00A3906.01                 2\n",
      "4   420 00A2601.02                 2\n",
      "5   420 00A1205.02                 2\n",
      "6   420 00A2601.03                 2\n",
      "7   420 00B1805.01                 2\n",
      "8   420 02A0714.01                 2\n",
      "9   420 00A0205.01                 2\n",
      "10  420 00A0408.01                 2\n"
     ]
    }
   ],
   "source": [
    "cad_duplicates = count_duplicates(df_cad)\n",
    "print(cad_duplicates)"
   ]
  },
  {
   "cell_type": "markdown",
   "metadata": {},
   "source": [
    "Am Ende der Konsolidierungsphase wird der Merge als Excel-File exportiert. Davor wurden alle Duplikate eliminiert."
   ]
  },
  {
   "cell_type": "code",
   "execution_count": 8,
   "metadata": {},
   "outputs": [],
   "source": [
    "merge.to_excel(\"matching/420_match_file.xlsx\")"
   ]
  },
  {
   "cell_type": "markdown",
   "metadata": {},
   "source": [
    "## Duplicate analysis"
   ]
  },
  {
   "cell_type": "code",
   "execution_count": 23,
   "metadata": {},
   "outputs": [
    {
     "name": "stdout",
     "output_type": "stream",
     "text": [
      "---\n",
      "NPA-Datenfile\n",
      "---\n",
      "HM-Datenfile\n",
      "---\n",
      "BST-Datenfile\n",
      "---\n",
      "FLT-Datenfile\n"
     ]
    }
   ],
   "source": [
    "dps = []\n",
    "for dataset in [df_npa, df_hm, df_bst, df_flt, df_fm]:\n",
    "    name = dataset.columns[0].split(\"___\")[0]+\"-Datenfile\"\n",
    "\n",
    "    if name ==\"FM-Datenfile\":\n",
    "        break\n",
    "\n",
    "    print(\"---\")\n",
    "    print(name)\n",
    "\n",
    "    fm = FileMerger(files=[df_cad, dataset], how=\"inner\")\n",
    "    nm = fm.find_non_matching_rows()\n",
    "    nm.to_excel(f\"non_matching/CAD_versus_{name}.xlsx\")\n",
    "\n",
    "    dp = count_duplicates(dataset)\n",
    "    dp.rename(columns={\"Anzahl Duplikate\": f\"Anzahl Duplikate {name}\"}, inplace=True)\n",
    "    dps.append(dp)\n",
    "    dp.to_excel(f\"duplicates/CAD_versus_{name}.xlsx\")"
   ]
  },
  {
   "cell_type": "code",
   "execution_count": 24,
   "metadata": {},
   "outputs": [
    {
     "data": {
      "text/plain": [
       "[            AKS-Nummer  Anzahl Duplikate NPA-Datenfile\n",
       " 0       420 00B1406.01                               4\n",
       " 1   nan 00Akeine Nr.00                               3\n",
       " 2   420 02AKeine Nr.00                               3\n",
       " 3       420 00A2001.03                               2\n",
       " 4       420 00A3906.01                               2\n",
       " 5       420 00A2601.03                               2\n",
       " 6       420 00A2601.02                               2\n",
       " 7       420 00A2001.02                               2\n",
       " 8       420 00A1205.02                               2\n",
       " 9       420 00A0205.01                               2\n",
       " 10      420 00B1303.02                               2\n",
       " 11      420 00B1805.01                               2\n",
       " 12      nan 00A4601.01                               2,\n",
       "        AKS-Nummer  Anzahl Duplikate HM-Datenfile\n",
       " 0  420 02A020A.01                              2\n",
       " 1  420 00A2114.01                              2,\n",
       " Empty DataFrame\n",
       " Columns: [AKS-Nummer, Anzahl Duplikate BST-Datenfile]\n",
       " Index: [],\n",
       " Empty DataFrame\n",
       " Columns: [AKS-Nummer, Anzahl Duplikate FLT-Datenfile]\n",
       " Index: []]"
      ]
     },
     "execution_count": 24,
     "metadata": {},
     "output_type": "execute_result"
    }
   ],
   "source": [
    "dps"
   ]
  },
  {
   "cell_type": "code",
   "execution_count": 29,
   "metadata": {},
   "outputs": [],
   "source": [
    "result = dps[0].merge(dps[1], on='AKS-Nummer', how='outer').merge(dps[2], on='AKS-Nummer', how='outer').merge(dps[3], on='AKS-Nummer', how='outer')\n",
    "result.fillna(1, inplace=True)"
   ]
  },
  {
   "cell_type": "code",
   "execution_count": 30,
   "metadata": {},
   "outputs": [
    {
     "data": {
      "text/html": [
       "<div>\n",
       "<style scoped>\n",
       "    .dataframe tbody tr th:only-of-type {\n",
       "        vertical-align: middle;\n",
       "    }\n",
       "\n",
       "    .dataframe tbody tr th {\n",
       "        vertical-align: top;\n",
       "    }\n",
       "\n",
       "    .dataframe thead th {\n",
       "        text-align: right;\n",
       "    }\n",
       "</style>\n",
       "<table border=\"1\" class=\"dataframe\">\n",
       "  <thead>\n",
       "    <tr style=\"text-align: right;\">\n",
       "      <th></th>\n",
       "      <th>AKS-Nummer</th>\n",
       "      <th>Anzahl Duplikate NPA-Datenfile</th>\n",
       "      <th>Anzahl Duplikate HM-Datenfile</th>\n",
       "      <th>Anzahl Duplikate BST-Datenfile</th>\n",
       "      <th>Anzahl Duplikate FLT-Datenfile</th>\n",
       "    </tr>\n",
       "  </thead>\n",
       "  <tbody>\n",
       "    <tr>\n",
       "      <th>0</th>\n",
       "      <td>420 00A0205.01</td>\n",
       "      <td>2.0</td>\n",
       "      <td>1.0</td>\n",
       "      <td>1.0</td>\n",
       "      <td>1.0</td>\n",
       "    </tr>\n",
       "    <tr>\n",
       "      <th>1</th>\n",
       "      <td>420 00A1205.02</td>\n",
       "      <td>2.0</td>\n",
       "      <td>1.0</td>\n",
       "      <td>1.0</td>\n",
       "      <td>1.0</td>\n",
       "    </tr>\n",
       "    <tr>\n",
       "      <th>2</th>\n",
       "      <td>420 00A2001.02</td>\n",
       "      <td>2.0</td>\n",
       "      <td>1.0</td>\n",
       "      <td>1.0</td>\n",
       "      <td>1.0</td>\n",
       "    </tr>\n",
       "    <tr>\n",
       "      <th>3</th>\n",
       "      <td>420 00A2001.03</td>\n",
       "      <td>2.0</td>\n",
       "      <td>1.0</td>\n",
       "      <td>1.0</td>\n",
       "      <td>1.0</td>\n",
       "    </tr>\n",
       "    <tr>\n",
       "      <th>4</th>\n",
       "      <td>420 00A2114.01</td>\n",
       "      <td>1.0</td>\n",
       "      <td>2.0</td>\n",
       "      <td>1.0</td>\n",
       "      <td>1.0</td>\n",
       "    </tr>\n",
       "    <tr>\n",
       "      <th>5</th>\n",
       "      <td>420 00A2601.02</td>\n",
       "      <td>2.0</td>\n",
       "      <td>1.0</td>\n",
       "      <td>1.0</td>\n",
       "      <td>1.0</td>\n",
       "    </tr>\n",
       "    <tr>\n",
       "      <th>6</th>\n",
       "      <td>420 00A2601.03</td>\n",
       "      <td>2.0</td>\n",
       "      <td>1.0</td>\n",
       "      <td>1.0</td>\n",
       "      <td>1.0</td>\n",
       "    </tr>\n",
       "    <tr>\n",
       "      <th>7</th>\n",
       "      <td>420 00A3906.01</td>\n",
       "      <td>2.0</td>\n",
       "      <td>1.0</td>\n",
       "      <td>1.0</td>\n",
       "      <td>1.0</td>\n",
       "    </tr>\n",
       "    <tr>\n",
       "      <th>8</th>\n",
       "      <td>420 00B1303.02</td>\n",
       "      <td>2.0</td>\n",
       "      <td>1.0</td>\n",
       "      <td>1.0</td>\n",
       "      <td>1.0</td>\n",
       "    </tr>\n",
       "    <tr>\n",
       "      <th>9</th>\n",
       "      <td>420 00B1406.01</td>\n",
       "      <td>4.0</td>\n",
       "      <td>1.0</td>\n",
       "      <td>1.0</td>\n",
       "      <td>1.0</td>\n",
       "    </tr>\n",
       "    <tr>\n",
       "      <th>10</th>\n",
       "      <td>420 00B1805.01</td>\n",
       "      <td>2.0</td>\n",
       "      <td>1.0</td>\n",
       "      <td>1.0</td>\n",
       "      <td>1.0</td>\n",
       "    </tr>\n",
       "    <tr>\n",
       "      <th>11</th>\n",
       "      <td>420 02A020A.01</td>\n",
       "      <td>1.0</td>\n",
       "      <td>2.0</td>\n",
       "      <td>1.0</td>\n",
       "      <td>1.0</td>\n",
       "    </tr>\n",
       "    <tr>\n",
       "      <th>12</th>\n",
       "      <td>420 02AKeine Nr.00</td>\n",
       "      <td>3.0</td>\n",
       "      <td>1.0</td>\n",
       "      <td>1.0</td>\n",
       "      <td>1.0</td>\n",
       "    </tr>\n",
       "    <tr>\n",
       "      <th>13</th>\n",
       "      <td>nan 00A4601.01</td>\n",
       "      <td>2.0</td>\n",
       "      <td>1.0</td>\n",
       "      <td>1.0</td>\n",
       "      <td>1.0</td>\n",
       "    </tr>\n",
       "    <tr>\n",
       "      <th>14</th>\n",
       "      <td>nan 00Akeine Nr.00</td>\n",
       "      <td>3.0</td>\n",
       "      <td>1.0</td>\n",
       "      <td>1.0</td>\n",
       "      <td>1.0</td>\n",
       "    </tr>\n",
       "  </tbody>\n",
       "</table>\n",
       "</div>"
      ],
      "text/plain": [
       "            AKS-Nummer  Anzahl Duplikate NPA-Datenfile  \\\n",
       "0       420 00A0205.01                             2.0   \n",
       "1       420 00A1205.02                             2.0   \n",
       "2       420 00A2001.02                             2.0   \n",
       "3       420 00A2001.03                             2.0   \n",
       "4       420 00A2114.01                             1.0   \n",
       "5       420 00A2601.02                             2.0   \n",
       "6       420 00A2601.03                             2.0   \n",
       "7       420 00A3906.01                             2.0   \n",
       "8       420 00B1303.02                             2.0   \n",
       "9       420 00B1406.01                             4.0   \n",
       "10      420 00B1805.01                             2.0   \n",
       "11      420 02A020A.01                             1.0   \n",
       "12  420 02AKeine Nr.00                             3.0   \n",
       "13      nan 00A4601.01                             2.0   \n",
       "14  nan 00Akeine Nr.00                             3.0   \n",
       "\n",
       "    Anzahl Duplikate HM-Datenfile  Anzahl Duplikate BST-Datenfile  \\\n",
       "0                             1.0                             1.0   \n",
       "1                             1.0                             1.0   \n",
       "2                             1.0                             1.0   \n",
       "3                             1.0                             1.0   \n",
       "4                             2.0                             1.0   \n",
       "5                             1.0                             1.0   \n",
       "6                             1.0                             1.0   \n",
       "7                             1.0                             1.0   \n",
       "8                             1.0                             1.0   \n",
       "9                             1.0                             1.0   \n",
       "10                            1.0                             1.0   \n",
       "11                            2.0                             1.0   \n",
       "12                            1.0                             1.0   \n",
       "13                            1.0                             1.0   \n",
       "14                            1.0                             1.0   \n",
       "\n",
       "    Anzahl Duplikate FLT-Datenfile  \n",
       "0                              1.0  \n",
       "1                              1.0  \n",
       "2                              1.0  \n",
       "3                              1.0  \n",
       "4                              1.0  \n",
       "5                              1.0  \n",
       "6                              1.0  \n",
       "7                              1.0  \n",
       "8                              1.0  \n",
       "9                              1.0  \n",
       "10                             1.0  \n",
       "11                             1.0  \n",
       "12                             1.0  \n",
       "13                             1.0  \n",
       "14                             1.0  "
      ]
     },
     "execution_count": 30,
     "metadata": {},
     "output_type": "execute_result"
    }
   ],
   "source": [
    "result"
   ]
  },
  {
   "cell_type": "code",
   "execution_count": null,
   "metadata": {},
   "outputs": [],
   "source": []
  }
 ],
 "metadata": {
  "kernelspec": {
   "display_name": "Python 3",
   "language": "python",
   "name": "python3"
  },
  "language_info": {
   "codemirror_mode": {
    "name": "ipython",
    "version": 3
   },
   "file_extension": ".py",
   "mimetype": "text/x-python",
   "name": "python",
   "nbconvert_exporter": "python",
   "pygments_lexer": "ipython3",
   "version": "3.13.0"
  }
 },
 "nbformat": 4,
 "nbformat_minor": 2
}
