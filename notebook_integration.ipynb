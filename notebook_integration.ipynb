{
 "cells": [
  {
   "cell_type": "markdown",
   "metadata": {},
   "source": [
    "# Merging of ``DataFrames``"
   ]
  },
  {
   "cell_type": "code",
   "execution_count": 1,
   "metadata": {},
   "outputs": [],
   "source": [
    "from pandas import DataFrame\n",
    "from viedoors import CADLoader, NPALoader, FileMerger, HMLoader\n",
    "from viedoors import BSTLoader, FLTLoader, FMLoader"
   ]
  },
  {
   "cell_type": "code",
   "execution_count": 2,
   "metadata": {},
   "outputs": [],
   "source": [
    "cad = CADLoader(file=\"data/420_gesamt_20250122.xlsx\", title=\"CAD\")\n",
    "npa = NPALoader(file=\"data/NPA_Tuer Aufnahme Obj420.xlsx\", title=\"NPA\")\n",
    "hm = HMLoader(file=\"data/Schrack_HM_Obj420.xls\", title=\"HM\")\n",
    "bst = BSTLoader(file=\"data/Sisando_BST_Obj420.xlsx\", title=\"BST\")\n",
    "flt = FLTLoader(file=\"data/Sisando_FLT_Obj420.xlsx\", title=\"FLT\")\n",
    "fm = FMLoader(file=\"data/BSTüren_Filemaker_11.04.22.xlsx\", title=\"FM\")\n",
    "\n",
    "df_npa = npa.get_data(prefixed=True)\n",
    "df_cad = cad.get_data(prefixed=True)\n",
    "df_hm = hm.get_data(prefixed=True)\n",
    "df_bst = bst.get_data(prefixed=True)\n",
    "df_flt = flt.get_data(prefixed=True)\n",
    "df_fm = fm.get_data(prefixed=True)\n",
    "\n",
    "merger = FileMerger(files=[df_cad, df_npa, df_hm, df_bst, df_flt, df_fm], how=\"left\")\n",
    "merge = merger.get_data_merge()"
   ]
  },
  {
   "cell_type": "code",
   "execution_count": 3,
   "metadata": {},
   "outputs": [],
   "source": [
    "merge.to_excel(\"matching/420_match_file.xlsx\")"
   ]
  },
  {
   "cell_type": "code",
   "execution_count": 4,
   "metadata": {},
   "outputs": [
    {
     "data": {
      "text/plain": [
       "0.06663560111835974"
      ]
     },
     "execution_count": 4,
     "metadata": {},
     "output_type": "execute_result"
    }
   ],
   "source": [
    "merger.merge_success_rate()"
   ]
  },
  {
   "cell_type": "code",
   "execution_count": 8,
   "metadata": {},
   "outputs": [
    {
     "ename": "AssertionError",
     "evalue": "This function can only be used when merging two datafiles. You tried to merge 6.",
     "output_type": "error",
     "traceback": [
      "\u001b[1;31m---------------------------------------------------------------------------\u001b[0m",
      "\u001b[1;31mAssertionError\u001b[0m                            Traceback (most recent call last)",
      "Cell \u001b[1;32mIn[8], line 1\u001b[0m\n\u001b[1;32m----> 1\u001b[0m \u001b[43mmerger\u001b[49m\u001b[38;5;241;43m.\u001b[39;49m\u001b[43mfind_non_matching_rows\u001b[49m\u001b[43m(\u001b[49m\u001b[43m)\u001b[49m\n",
      "File \u001b[1;32mc:\\GitRepositories\\vie-doors\\viedoors\\merger\\file_merger.py:55\u001b[0m, in \u001b[0;36mFileMerger.find_non_matching_rows\u001b[1;34m(self)\u001b[0m\n\u001b[0;32m     54\u001b[0m \u001b[38;5;28;01mdef\u001b[39;00m \u001b[38;5;21mfind_non_matching_rows\u001b[39m(\u001b[38;5;28mself\u001b[39m):\n\u001b[1;32m---> 55\u001b[0m     \u001b[38;5;28;01massert\u001b[39;00m \u001b[38;5;28mlen\u001b[39m(\u001b[38;5;28mself\u001b[39m\u001b[38;5;241m.\u001b[39mfiles) \u001b[38;5;241m==\u001b[39m \u001b[38;5;241m2\u001b[39m, \u001b[38;5;124mf\u001b[39m\u001b[38;5;124m\"\u001b[39m\u001b[38;5;124mThis function can only be used when merging two datafiles. You tried to merge \u001b[39m\u001b[38;5;132;01m{\u001b[39;00m\u001b[38;5;28mlen\u001b[39m(\u001b[38;5;28mself\u001b[39m\u001b[38;5;241m.\u001b[39mfiles)\u001b[38;5;132;01m}\u001b[39;00m\u001b[38;5;124m.\u001b[39m\u001b[38;5;124m\"\u001b[39m\n\u001b[0;32m     56\u001b[0m     \u001b[38;5;28;01mfor\u001b[39;00m file \u001b[38;5;129;01min\u001b[39;00m \u001b[38;5;28mself\u001b[39m\u001b[38;5;241m.\u001b[39mfiles[\u001b[38;5;241m1\u001b[39m:]:\n\u001b[0;32m     57\u001b[0m         old_merge \u001b[38;5;241m=\u001b[39m \u001b[38;5;28mself\u001b[39m\u001b[38;5;241m.\u001b[39mdata_merge\u001b[38;5;241m.\u001b[39mcopy()\n",
      "\u001b[1;31mAssertionError\u001b[0m: This function can only be used when merging two datafiles. You tried to merge 6."
     ]
    }
   ],
   "source": [
    "merger.find_non_matching_rows()"
   ]
  },
  {
   "cell_type": "code",
   "execution_count": 6,
   "metadata": {},
   "outputs": [
    {
     "name": "stdout",
     "output_type": "stream",
     "text": [
      "---\n",
      "NPA-Datenfile\n",
      "Datensätze: 114.\n",
      "Übereinstimmungen mit CAD-Datenfile: 112 (98.0%)\n",
      "---\n",
      "HM-Datenfile\n",
      "Datensätze: 41.\n",
      "Übereinstimmungen mit CAD-Datenfile: 30 (73.0%)\n",
      "---\n",
      "BST-Datenfile\n",
      "Datensätze: 74.\n",
      "Übereinstimmungen mit CAD-Datenfile: 75 (101.0%)\n",
      "---\n",
      "FLT-Datenfile\n",
      "Datensätze: 83.\n",
      "Übereinstimmungen mit CAD-Datenfile: 68 (82.0%)\n",
      "---\n",
      "FM-Datenfile\n",
      "Datensätze: 6438.\n",
      "Übereinstimmungen mit CAD-Datenfile: 29 (0.0%)\n"
     ]
    }
   ],
   "source": [
    "\n",
    "for dataset in [df_npa, df_hm, df_bst, df_flt, df_fm]:\n",
    "    print(\"---\")\n",
    "    print(dataset.columns[0].split(\"___\")[0]+\"-Datenfile\")\n",
    "\n",
    "    fm = FileMerger(files=[df_cad, dataset], how=\"inner\")\n",
    "\n",
    "    a = len(dataset)\n",
    "    b = len(fm.get_data_merge())\n",
    "\n",
    "    print(f\"Datensätze: {a}.\")\n",
    "    print(f\"Übereinstimmungen mit CAD-Datenfile: {b} ({round(b/a*100,0)}%)\")\n"
   ]
  },
  {
   "cell_type": "code",
   "execution_count": 7,
   "metadata": {},
   "outputs": [
    {
     "name": "stdout",
     "output_type": "stream",
     "text": [
      "---\n",
      "NPA-Datenfile\n",
      "Datensätze: 114.\n",
      "Übereinstimmungen mit CAD-Datenfile: 112 (98.0%)\n",
      "---\n",
      "HM-Datenfile\n",
      "Datensätze: 41.\n",
      "Übereinstimmungen mit CAD-Datenfile: 30 (73.0%)\n",
      "---\n",
      "BST-Datenfile\n",
      "Datensätze: 74.\n",
      "Übereinstimmungen mit CAD-Datenfile: 75 (101.0%)\n",
      "---\n",
      "FLT-Datenfile\n",
      "Datensätze: 83.\n",
      "Übereinstimmungen mit CAD-Datenfile: 68 (82.0%)\n",
      "---\n",
      "FM-Datenfile\n",
      "Datensätze: 6438.\n",
      "Übereinstimmungen mit CAD-Datenfile: 29 (0.0%)\n"
     ]
    }
   ],
   "source": [
    "\n",
    "for dataset in [df_npa, df_hm, df_bst, df_flt, df_fm]:\n",
    "    name = dataset.columns[0].split(\"___\")[0]+\"-Datenfile\"\n",
    "    print(\"---\")\n",
    "    print(name)\n",
    "\n",
    "    fm = FileMerger(files=[df_cad, dataset], how=\"inner\")\n",
    "\n",
    "    a = len(dataset)\n",
    "    b = len(fm.get_data_merge())\n",
    "\n",
    "    print(f\"Datensätze: {a}.\")\n",
    "    print(f\"Übereinstimmungen mit CAD-Datenfile: {b} ({round(b/a*100,0)}%)\")\n",
    "\n",
    "    nm = fm.find_non_matching_rows()\n",
    "\n",
    "    nm.to_excel(f\"non_matching/CAD_versus_{name}.xlsx\")\n",
    "\n"
   ]
  }
 ],
 "metadata": {
  "kernelspec": {
   "display_name": "Python 3",
   "language": "python",
   "name": "python3"
  },
  "language_info": {
   "codemirror_mode": {
    "name": "ipython",
    "version": 3
   },
   "file_extension": ".py",
   "mimetype": "text/x-python",
   "name": "python",
   "nbconvert_exporter": "python",
   "pygments_lexer": "ipython3",
   "version": "3.13.0"
  }
 },
 "nbformat": 4,
 "nbformat_minor": 2
}
