{
 "cells": [
  {
   "cell_type": "markdown",
   "metadata": {},
   "source": [
    "# Merging of ``DataFrames``"
   ]
  },
  {
   "cell_type": "code",
   "execution_count": 1,
   "metadata": {},
   "outputs": [],
   "source": [
    "from pandas import DataFrame\n",
    "from viedoors import CADLoader, NPALoader, FileMerger, HMLoader\n",
    "from viedoors import BSTLoader, FLTLoader, FMLoader"
   ]
  },
  {
   "cell_type": "code",
   "execution_count": 2,
   "metadata": {},
   "outputs": [],
   "source": [
    "cad = CADLoader(file=\"data/420_gesamt_20250122.xlsx\", title=\"CAD\")\n",
    "npa = NPALoader(file=\"data/NPA_Tür Aufnahme Obj. 420.xlsx\", title=\"NPA\")\n",
    "hm = HMLoader(file=\"data/Schrack_HM_Obj.420.xls\", title=\"HM\")\n",
    "bst = BSTLoader(file=\"data/Sisando_BST_Obj.420.xlsx\", title=\"BST\")\n",
    "flt = FLTLoader(file=\"data/Sisando_FLT_Obj.420.xlsx\", title=\"FLT\")\n",
    "fm = FMLoader()\n",
    "\n",
    "df_npa = npa.get_data(prefixed=True)\n",
    "df_cad = cad.get_data(prefixed=True)\n",
    "df_hm = hm.get_data(prefixed=True)\n",
    "df_bst = bst.get_data(prefixed=True)\n",
    "df_flt = flt.get_data(prefixed=True)\n",
    "df_fm = fm.get_data(prefixed=True)"
   ]
  },
  {
   "cell_type": "code",
   "execution_count": 3,
   "metadata": {},
   "outputs": [],
   "source": [
    "merger = FileMerger(files=[df_cad, df_npa, df_hm, df_bst, df_flt, df_fm], how=\"left\")\n",
    "merge = merger.get_data_merge()\n",
    "merge.to_excel(\"matching/420_match_file.xlsx\")"
   ]
  },
  {
   "cell_type": "code",
   "execution_count": 4,
   "metadata": {},
   "outputs": [
    {
     "name": "stdout",
     "output_type": "stream",
     "text": [
      "---\n",
      "NPA-Datenfile\n",
      "Datensätze: 426.\n",
      "Übereinstimmungen mit CAD-Datenfile: 428 (100.0%)\n",
      "---\n",
      "HM-Datenfile\n",
      "Datensätze: 42.\n",
      "Übereinstimmungen mit CAD-Datenfile: 30 (71.0%)\n",
      "---\n",
      "BST-Datenfile\n",
      "Datensätze: 74.\n",
      "Übereinstimmungen mit CAD-Datenfile: 75 (101.0%)\n",
      "---\n",
      "FLT-Datenfile\n",
      "Datensätze: 107.\n",
      "Übereinstimmungen mit CAD-Datenfile: 68 (64.0%)\n",
      "---\n",
      "FM-Datenfile\n",
      "Datensätze: 6438.\n",
      "Übereinstimmungen mit CAD-Datenfile: 29 (0.0%)\n"
     ]
    }
   ],
   "source": [
    "for dataset in [df_npa, df_hm, df_bst, df_flt, df_fm]:\n",
    "    print(\"---\")\n",
    "    print(dataset.columns[0].split(\"___\")[0]+\"-Datenfile\")\n",
    "\n",
    "    fm = FileMerger(files=[df_cad, dataset], how=\"inner\")\n",
    "\n",
    "    a = len(dataset)\n",
    "    b = len(fm.get_data_merge())\n",
    "\n",
    "    print(f\"Datensätze: {a}.\")\n",
    "    print(f\"Übereinstimmungen mit CAD-Datenfile: {b} ({round(b/a*100,0)}%)\")\n"
   ]
  },
  {
   "cell_type": "code",
   "execution_count": 5,
   "metadata": {},
   "outputs": [
    {
     "name": "stdout",
     "output_type": "stream",
     "text": [
      "---\n",
      "NPA-Datenfile\n",
      "---\n",
      "HM-Datenfile\n",
      "---\n",
      "BST-Datenfile\n",
      "---\n",
      "FLT-Datenfile\n",
      "---\n",
      "FM-Datenfile\n"
     ]
    }
   ],
   "source": [
    "for dataset in [df_npa, df_hm, df_bst, df_flt, df_fm]:\n",
    "    name = dataset.columns[0].split(\"___\")[0]+\"-Datenfile\"\n",
    "    print(\"---\")\n",
    "    print(name)\n",
    "\n",
    "    fm = FileMerger(files=[df_cad, dataset], how=\"inner\")\n",
    "    nm = fm.find_non_matching_rows()\n",
    "\n",
    "    nm.to_excel(f\"non_matching/CAD_versus_{name}.xlsx\")\n",
    "\n"
   ]
  }
 ],
 "metadata": {
  "kernelspec": {
   "display_name": "Python 3",
   "language": "python",
   "name": "python3"
  },
  "language_info": {
   "codemirror_mode": {
    "name": "ipython",
    "version": 3
   },
   "file_extension": ".py",
   "mimetype": "text/x-python",
   "name": "python",
   "nbconvert_exporter": "python",
   "pygments_lexer": "ipython3",
   "version": "3.13.0"
  }
 },
 "nbformat": 4,
 "nbformat_minor": 2
}
