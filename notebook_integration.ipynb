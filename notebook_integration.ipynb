{
 "cells": [
  {
   "cell_type": "markdown",
   "metadata": {},
   "source": [
    "# Merging of ``DataFrames``"
   ]
  },
  {
   "cell_type": "code",
   "execution_count": 1,
   "metadata": {},
   "outputs": [],
   "source": [
    "from pandas import DataFrame\n",
    "from viedoors import CADLoader, NPALoader, FileMerger, HMLoader\n",
    "from viedoors import BSTLoader, FLTLoader, FMLoader"
   ]
  },
  {
   "cell_type": "markdown",
   "metadata": {},
   "source": [
    "## Theoretical"
   ]
  },
  {
   "cell_type": "code",
   "execution_count": null,
   "metadata": {},
   "outputs": [],
   "source": [
    "df_a = DataFrame({\n",
    "    \"x\": [1,2,3,4,5],\n",
    "    \"merge\": [\"430 00A0213.01\", \"430 00A0213.01\", \"430 00A0213.03\", \"430 00A0213.02\", None]\n",
    "})\n",
    "\n",
    "df_b = DataFrame({\n",
    "    \"y\": [\"a\", \"b\", \"c\", \"d\"],\n",
    "    \"merge\": [\"430 00A0213.00\", \"430 00A0213.01\", \"430 00A0213.02\", \"430 00A0213.03\"]\n",
    "})\n",
    "\n",
    "df_c = DataFrame({\n",
    "    \"z\": [\"x\", \"y\"],\n",
    "    \"merge\": [\"430 00A0213.01\", \"430 00A0213.03\"]\n",
    "})"
   ]
  },
  {
   "cell_type": "code",
   "execution_count": 3,
   "metadata": {},
   "outputs": [],
   "source": [
    "fm = FileMerger(files=[df_a, df_b, df_c],)"
   ]
  },
  {
   "cell_type": "code",
   "execution_count": 4,
   "metadata": {},
   "outputs": [
    {
     "data": {
      "text/html": [
       "<div>\n",
       "<style scoped>\n",
       "    .dataframe tbody tr th:only-of-type {\n",
       "        vertical-align: middle;\n",
       "    }\n",
       "\n",
       "    .dataframe tbody tr th {\n",
       "        vertical-align: top;\n",
       "    }\n",
       "\n",
       "    .dataframe thead th {\n",
       "        text-align: right;\n",
       "    }\n",
       "</style>\n",
       "<table border=\"1\" class=\"dataframe\">\n",
       "  <thead>\n",
       "    <tr style=\"text-align: right;\">\n",
       "      <th></th>\n",
       "      <th>x</th>\n",
       "      <th>merge</th>\n",
       "      <th>y</th>\n",
       "      <th>z</th>\n",
       "    </tr>\n",
       "  </thead>\n",
       "  <tbody>\n",
       "    <tr>\n",
       "      <th>0</th>\n",
       "      <td>1</td>\n",
       "      <td>430 00A0213.01</td>\n",
       "      <td>b</td>\n",
       "      <td>x</td>\n",
       "    </tr>\n",
       "    <tr>\n",
       "      <th>1</th>\n",
       "      <td>2</td>\n",
       "      <td>430 00A0213.01</td>\n",
       "      <td>b</td>\n",
       "      <td>x</td>\n",
       "    </tr>\n",
       "    <tr>\n",
       "      <th>2</th>\n",
       "      <td>3</td>\n",
       "      <td>430 00A0213.03</td>\n",
       "      <td>d</td>\n",
       "      <td>y</td>\n",
       "    </tr>\n",
       "    <tr>\n",
       "      <th>3</th>\n",
       "      <td>4</td>\n",
       "      <td>430 00A0213.02</td>\n",
       "      <td>c</td>\n",
       "      <td>NaN</td>\n",
       "    </tr>\n",
       "    <tr>\n",
       "      <th>4</th>\n",
       "      <td>5</td>\n",
       "      <td>None</td>\n",
       "      <td>NaN</td>\n",
       "      <td>NaN</td>\n",
       "    </tr>\n",
       "  </tbody>\n",
       "</table>\n",
       "</div>"
      ],
      "text/plain": [
       "   x           merge    y    z\n",
       "0  1  430 00A0213.01    b    x\n",
       "1  2  430 00A0213.01    b    x\n",
       "2  3  430 00A0213.03    d    y\n",
       "3  4  430 00A0213.02    c  NaN\n",
       "4  5            None  NaN  NaN"
      ]
     },
     "execution_count": 4,
     "metadata": {},
     "output_type": "execute_result"
    }
   ],
   "source": [
    "fm.get_data_merge()"
   ]
  },
  {
   "cell_type": "code",
   "execution_count": 5,
   "metadata": {},
   "outputs": [
    {
     "data": {
      "text/plain": [
       "1.0"
      ]
     },
     "execution_count": 5,
     "metadata": {},
     "output_type": "execute_result"
    }
   ],
   "source": [
    "fm.merge_success_rate()"
   ]
  },
  {
   "cell_type": "markdown",
   "metadata": {},
   "source": [
    "## Real Data"
   ]
  },
  {
   "cell_type": "code",
   "execution_count": 3,
   "metadata": {},
   "outputs": [],
   "source": [
    "cad = CADLoader(file=\"data/420_gesamt_20250122.xlsx\", title=\"CAD\")\n",
    "npa = NPALoader(file=\"data/NPA_Tuer Aufnahme Obj420.xlsx\", title=\"NPA\")\n",
    "hm = HMLoader(file=\"data/Schrack_HM_Obj420.xls\", title=\"HM\")\n",
    "bst = BSTLoader(file=\"data/Sisando_BST_Obj420.xlsx\", title=\"BST\")\n",
    "flt = FLTLoader(file=\"data/Sisando_FLT_Obj420.xlsx\", title=\"FLT\")\n",
    "fm = FMLoader(file=\"data/BSTüren_Filemaker_11.04.22.xlsx\", title=\"FM\")\n",
    "\n",
    "df_npa = npa.get_data(prefixed=True)\n",
    "df_cad = cad.get_data(prefixed=True)\n",
    "df_hm = hm.get_data(prefixed=True)\n",
    "df_bst = bst.get_data(prefixed=True)\n",
    "df_flt = flt.get_data(prefixed=True)\n",
    "df_fm = fm.get_data(prefixed=True)\n",
    "\n",
    "merger = FileMerger(files=[df_cad, df_npa, df_hm, df_bst, df_flt, df_fm], how=\"left\")\n",
    "merge = merger.get_data_merge()"
   ]
  },
  {
   "cell_type": "code",
   "execution_count": 5,
   "metadata": {},
   "outputs": [],
   "source": [
    "merge.to_excel(\"test.xlsx\")"
   ]
  },
  {
   "cell_type": "code",
   "execution_count": 6,
   "metadata": {},
   "outputs": [
    {
     "data": {
      "text/plain": [
       "0.06663560111835974"
      ]
     },
     "execution_count": 6,
     "metadata": {},
     "output_type": "execute_result"
    }
   ],
   "source": [
    "merger.merge_success_rate()"
   ]
  },
  {
   "cell_type": "code",
   "execution_count": null,
   "metadata": {},
   "outputs": [],
   "source": []
  }
 ],
 "metadata": {
  "kernelspec": {
   "display_name": "Python 3",
   "language": "python",
   "name": "python3"
  },
  "language_info": {
   "codemirror_mode": {
    "name": "ipython",
    "version": 3
   },
   "file_extension": ".py",
   "mimetype": "text/x-python",
   "name": "python",
   "nbconvert_exporter": "python",
   "pygments_lexer": "ipython3",
   "version": "3.12.4"
  }
 },
 "nbformat": 4,
 "nbformat_minor": 2
}
