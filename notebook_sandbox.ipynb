{
 "cells": [
  {
   "cell_type": "markdown",
   "metadata": {},
   "source": [
    "# Merging of ``DataFrames``"
   ]
  },
  {
   "cell_type": "code",
   "execution_count": 1,
   "metadata": {},
   "outputs": [],
   "source": [
    "from pandas import DataFrame, concat, merge\n",
    "from viedoors import CADLoader, NPALoader"
   ]
  },
  {
   "cell_type": "markdown",
   "metadata": {},
   "source": [
    "## Theoretical"
   ]
  },
  {
   "cell_type": "code",
   "execution_count": 2,
   "metadata": {},
   "outputs": [
    {
     "name": "stdout",
     "output_type": "stream",
     "text": [
      "   x integration_aks\n",
      "0  1  430 00A0213.01\n",
      "1  2  430 00A0213.01\n",
      "2  3  430 00A0213.03\n",
      "3  4  430 00A0213.02\n",
      "4  5            None\n"
     ]
    }
   ],
   "source": [
    "\n",
    "\n",
    "df_a = DataFrame({\n",
    "    \"x\": [1,2,3,4,5],\n",
    "    \"integration_aks\": [\"430 00A0213.01\", \"430 00A0213.01\", \"430 00A0213.03\", \"430 00A0213.02\", None]\n",
    "})\n",
    "\n",
    "df_b = DataFrame({\n",
    "    \"u\": [\"a\", \"b\", \"c\", \"d\"],\n",
    "    \"integration_aks\": [\"430 00A0213.00\", \"430 00A0213.01\", \"430 00A0213.02\", \"430 00A0213.03\"]\n",
    "})\n",
    "\n",
    "print(df_a)"
   ]
  },
  {
   "cell_type": "code",
   "execution_count": 3,
   "metadata": {},
   "outputs": [
    {
     "data": {
      "text/html": [
       "<div>\n",
       "<style scoped>\n",
       "    .dataframe tbody tr th:only-of-type {\n",
       "        vertical-align: middle;\n",
       "    }\n",
       "\n",
       "    .dataframe tbody tr th {\n",
       "        vertical-align: top;\n",
       "    }\n",
       "\n",
       "    .dataframe thead th {\n",
       "        text-align: right;\n",
       "    }\n",
       "</style>\n",
       "<table border=\"1\" class=\"dataframe\">\n",
       "  <thead>\n",
       "    <tr style=\"text-align: right;\">\n",
       "      <th></th>\n",
       "      <th>x</th>\n",
       "      <th>integration_aks</th>\n",
       "      <th>u</th>\n",
       "    </tr>\n",
       "  </thead>\n",
       "  <tbody>\n",
       "    <tr>\n",
       "      <th>0</th>\n",
       "      <td>1</td>\n",
       "      <td>430 00A0213.01</td>\n",
       "      <td>b</td>\n",
       "    </tr>\n",
       "    <tr>\n",
       "      <th>1</th>\n",
       "      <td>2</td>\n",
       "      <td>430 00A0213.01</td>\n",
       "      <td>b</td>\n",
       "    </tr>\n",
       "    <tr>\n",
       "      <th>2</th>\n",
       "      <td>3</td>\n",
       "      <td>430 00A0213.03</td>\n",
       "      <td>d</td>\n",
       "    </tr>\n",
       "    <tr>\n",
       "      <th>3</th>\n",
       "      <td>4</td>\n",
       "      <td>430 00A0213.02</td>\n",
       "      <td>c</td>\n",
       "    </tr>\n",
       "  </tbody>\n",
       "</table>\n",
       "</div>"
      ],
      "text/plain": [
       "   x integration_aks  u\n",
       "0  1  430 00A0213.01  b\n",
       "1  2  430 00A0213.01  b\n",
       "2  3  430 00A0213.03  d\n",
       "3  4  430 00A0213.02  c"
      ]
     },
     "execution_count": 3,
     "metadata": {},
     "output_type": "execute_result"
    }
   ],
   "source": [
    "merge(left=df_a, right=df_b, on=\"integration_aks\")"
   ]
  },
  {
   "cell_type": "markdown",
   "metadata": {},
   "source": [
    "## Real Data"
   ]
  },
  {
   "cell_type": "code",
   "execution_count": 4,
   "metadata": {},
   "outputs": [],
   "source": [
    "cad = CADLoader(file=\"data/420_gesamt_20250122.xlsx\", title=\"CAD\")\n",
    "npa = NPALoader(file=\"data/NPA_Tuer Aufnahme Obj420.xlsx\", title=\"NPA\")\n",
    "\n",
    "df_npa = npa.get_data(prefixed=True)\n",
    "df_cad = cad.get_data(prefixed=True)"
   ]
  },
  {
   "cell_type": "code",
   "execution_count": 16,
   "metadata": {},
   "outputs": [],
   "source": [
    "m = merge(left=df_cad, right=df_npa, on=\"merge\", how=\"outer\")"
   ]
  },
  {
   "cell_type": "code",
   "execution_count": 17,
   "metadata": {},
   "outputs": [
    {
     "name": "stdout",
     "output_type": "stream",
     "text": [
      "Longer file has n_rows = 424\n",
      "Merge has n_rows = 432\n"
     ]
    }
   ],
   "source": [
    "print(\"Longer file has n_rows =\", max(len(df_cad), len(df_npa)))\n",
    "print(\"Merge has n_rows =\", len(m))"
   ]
  },
  {
   "cell_type": "code",
   "execution_count": 21,
   "metadata": {},
   "outputs": [],
   "source": [
    "m.to_excel(\"dummy.xlsx\")"
   ]
  },
  {
   "cell_type": "code",
   "execution_count": null,
   "metadata": {},
   "outputs": [],
   "source": []
  }
 ],
 "metadata": {
  "kernelspec": {
   "display_name": "Python 3",
   "language": "python",
   "name": "python3"
  },
  "language_info": {
   "codemirror_mode": {
    "name": "ipython",
    "version": 3
   },
   "file_extension": ".py",
   "mimetype": "text/x-python",
   "name": "python",
   "nbconvert_exporter": "python",
   "pygments_lexer": "ipython3",
   "version": "3.13.0"
  }
 },
 "nbformat": 4,
 "nbformat_minor": 2
}
