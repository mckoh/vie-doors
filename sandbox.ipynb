{
 "cells": [
  {
   "cell_type": "markdown",
   "metadata": {},
   "source": [
    "## Eliminate Duplicates"
   ]
  },
  {
   "cell_type": "code",
   "execution_count": 3,
   "metadata": {},
   "outputs": [],
   "source": [
    "from pandas import concat, DataFrame\n",
    "from viedoors import FileMerger\n",
    "\n",
    "\n",
    "def keep_n_duplicates(dataframe, n):\n",
    "\n",
    "        duplicates = dataframe[dataframe.duplicated(keep=False)]\n",
    "        keep_rows = duplicates.iloc[:n]\n",
    "        cleaned_df = concat(\n",
    "                [\n",
    "                        dataframe[~dataframe.duplicated(keep=False)],\n",
    "                        keep_rows\n",
    "                ]\n",
    "        ).reset_index(drop=True)\n",
    "        return cleaned_df\n",
    "\n",
    "def get_n(dataframe, aks):\n",
    "        return len(dataframe.loc[dataframe[\"merge\"]==aks])"
   ]
  },
  {
   "cell_type": "code",
   "execution_count": 4,
   "metadata": {},
   "outputs": [],
   "source": [
    "cad = DataFrame({\n",
    "    \"merge\": [\"1234\", \"1234\", \"1234\", \"9876\"],\n",
    "    \"value_01\": [1, 1, 3, 4],\n",
    "    \"value_02\": [5, 5, 7, 8]\n",
    "})\n",
    "\n",
    "npa = DataFrame({\n",
    "    \"merge\": [\"1234\", \"1234\", \"9876\"],\n",
    "    \"value_03\": [9, 9, 11],\n",
    "    \"value_04\": [12, 12, None]\n",
    "})"
   ]
  },
  {
   "cell_type": "code",
   "execution_count": 5,
   "metadata": {},
   "outputs": [],
   "source": [
    "fm = FileMerger([cad, npa])\n",
    "merge = fm.data_merge"
   ]
  },
  {
   "cell_type": "code",
   "execution_count": 6,
   "metadata": {},
   "outputs": [
    {
     "data": {
      "text/html": [
       "<div>\n",
       "<style scoped>\n",
       "    .dataframe tbody tr th:only-of-type {\n",
       "        vertical-align: middle;\n",
       "    }\n",
       "\n",
       "    .dataframe tbody tr th {\n",
       "        vertical-align: top;\n",
       "    }\n",
       "\n",
       "    .dataframe thead th {\n",
       "        text-align: right;\n",
       "    }\n",
       "</style>\n",
       "<table border=\"1\" class=\"dataframe\">\n",
       "  <thead>\n",
       "    <tr style=\"text-align: right;\">\n",
       "      <th></th>\n",
       "      <th>merge</th>\n",
       "      <th>value_01</th>\n",
       "      <th>value_02</th>\n",
       "      <th>value_03</th>\n",
       "      <th>value_04</th>\n",
       "    </tr>\n",
       "  </thead>\n",
       "  <tbody>\n",
       "    <tr>\n",
       "      <th>0</th>\n",
       "      <td>1234</td>\n",
       "      <td>1</td>\n",
       "      <td>5</td>\n",
       "      <td>9</td>\n",
       "      <td>12.0</td>\n",
       "    </tr>\n",
       "    <tr>\n",
       "      <th>4</th>\n",
       "      <td>1234</td>\n",
       "      <td>3</td>\n",
       "      <td>7</td>\n",
       "      <td>9</td>\n",
       "      <td>12.0</td>\n",
       "    </tr>\n",
       "    <tr>\n",
       "      <th>6</th>\n",
       "      <td>9876</td>\n",
       "      <td>4</td>\n",
       "      <td>8</td>\n",
       "      <td>11</td>\n",
       "      <td>NaN</td>\n",
       "    </tr>\n",
       "  </tbody>\n",
       "</table>\n",
       "</div>"
      ],
      "text/plain": [
       "  merge  value_01  value_02  value_03  value_04\n",
       "0  1234         1         5         9      12.0\n",
       "4  1234         3         7         9      12.0\n",
       "6  9876         4         8        11       NaN"
      ]
     },
     "execution_count": 6,
     "metadata": {},
     "output_type": "execute_result"
    }
   ],
   "source": [
    "merge.loc[~merge.duplicated()]"
   ]
  },
  {
   "cell_type": "markdown",
   "metadata": {},
   "source": [
    "Zwischenfazit: Die `420-00B1234-01` landet vier mal im Merge. Das liegt daran, dass sie **zweimal im CAD-File** und **zweimal im NPA-File** vorkam. Wir wollen sie aber nur so oft im Merge behalten, wie sie im CAD-File vorkam - also zweimal. Das Problem: Wenn wir einfach nur alle Voll-Duplikate (gleiche Werte in allen Zellen) löschen, dann bleibt nur ein Datensatz übrig. Wir wollen aber dass `n` Duplikate übrig bleiben - so viele, wie es Einträge im CAD-File gab."
   ]
  },
  {
   "cell_type": "code",
   "execution_count": 7,
   "metadata": {},
   "outputs": [
    {
     "data": {
      "text/html": [
       "<div>\n",
       "<style scoped>\n",
       "    .dataframe tbody tr th:only-of-type {\n",
       "        vertical-align: middle;\n",
       "    }\n",
       "\n",
       "    .dataframe tbody tr th {\n",
       "        vertical-align: top;\n",
       "    }\n",
       "\n",
       "    .dataframe thead th {\n",
       "        text-align: right;\n",
       "    }\n",
       "</style>\n",
       "<table border=\"1\" class=\"dataframe\">\n",
       "  <thead>\n",
       "    <tr style=\"text-align: right;\">\n",
       "      <th></th>\n",
       "      <th>merge</th>\n",
       "      <th>value_01</th>\n",
       "      <th>value_02</th>\n",
       "      <th>value_03</th>\n",
       "      <th>value_04</th>\n",
       "    </tr>\n",
       "  </thead>\n",
       "  <tbody>\n",
       "    <tr>\n",
       "      <th>0</th>\n",
       "      <td>1234</td>\n",
       "      <td>1</td>\n",
       "      <td>5</td>\n",
       "      <td>9</td>\n",
       "      <td>12.0</td>\n",
       "    </tr>\n",
       "    <tr>\n",
       "      <th>1</th>\n",
       "      <td>1234</td>\n",
       "      <td>1</td>\n",
       "      <td>5</td>\n",
       "      <td>9</td>\n",
       "      <td>12.0</td>\n",
       "    </tr>\n",
       "    <tr>\n",
       "      <th>2</th>\n",
       "      <td>1234</td>\n",
       "      <td>1</td>\n",
       "      <td>5</td>\n",
       "      <td>9</td>\n",
       "      <td>12.0</td>\n",
       "    </tr>\n",
       "    <tr>\n",
       "      <th>3</th>\n",
       "      <td>1234</td>\n",
       "      <td>3</td>\n",
       "      <td>7</td>\n",
       "      <td>9</td>\n",
       "      <td>12.0</td>\n",
       "    </tr>\n",
       "    <tr>\n",
       "      <th>4</th>\n",
       "      <td>9876</td>\n",
       "      <td>4</td>\n",
       "      <td>8</td>\n",
       "      <td>11</td>\n",
       "      <td>NaN</td>\n",
       "    </tr>\n",
       "  </tbody>\n",
       "</table>\n",
       "</div>"
      ],
      "text/plain": [
       "  merge  value_01  value_02  value_03  value_04\n",
       "0  1234         1         5         9      12.0\n",
       "1  1234         1         5         9      12.0\n",
       "2  1234         1         5         9      12.0\n",
       "3  1234         3         7         9      12.0\n",
       "4  9876         4         8        11       NaN"
      ]
     },
     "execution_count": 7,
     "metadata": {},
     "output_type": "execute_result"
    }
   ],
   "source": [
    "new_merge = None\n",
    "first = True\n",
    "\n",
    "for aks in merge[\"merge\"].unique():\n",
    "    sub_df = merge.loc[merge[\"merge\"]==aks]\n",
    "    duplicate_mask = sub_df.duplicated()\n",
    "    a = sub_df.loc[~duplicate_mask]\n",
    "\n",
    "    for i in a.index:\n",
    "        b = a.loc[a.index==i][list(cad.columns)]\n",
    "        n = (cad == b.iloc[0]).all(axis=1).sum()\n",
    "\n",
    "        if first:\n",
    "            new_merge = DataFrame([a.iloc[0]] * n, columns=a.columns)\n",
    "            first = False\n",
    "        else:\n",
    "            new_merge = concat([new_merge, a])\n",
    "\n",
    "new_merge = new_merge.reset_index()\n",
    "new_merge.drop(\"index\", axis=1, inplace=True)\n",
    "new_merge"
   ]
  },
  {
   "cell_type": "markdown",
   "metadata": {},
   "source": [
    "## Duplicate Overview"
   ]
  },
  {
   "cell_type": "markdown",
   "metadata": {},
   "source": []
  }
 ],
 "metadata": {
  "kernelspec": {
   "display_name": "Python 3",
   "language": "python",
   "name": "python3"
  },
  "language_info": {
   "codemirror_mode": {
    "name": "ipython",
    "version": 3
   },
   "file_extension": ".py",
   "mimetype": "text/x-python",
   "name": "python",
   "nbconvert_exporter": "python",
   "pygments_lexer": "ipython3",
   "version": "3.9.9"
  }
 },
 "nbformat": 4,
 "nbformat_minor": 2
}
