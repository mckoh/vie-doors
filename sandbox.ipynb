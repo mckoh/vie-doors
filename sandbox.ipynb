{
 "cells": [
  {
   "cell_type": "code",
   "execution_count": 1,
   "metadata": {},
   "outputs": [],
   "source": [
    "info = {\n",
    "    '420 00A0205.01': 2,\n",
    "    '420 00A0408.01': 1,\n",
    "    '420 00A1205.02': 2,\n",
    "    '420 00A2001.02': 2,\n",
    "    '420 00A2001.03': 2,\n",
    "    '420 00A2601.02': 3,\n",
    "    '420 00A2601.03': 2,\n",
    "    '420 00A3906.01': 3,\n",
    "    '420 00B1805.01': 3,\n",
    "    '420 02A0714.01': 1,\n",
    "    '420 00A2114.01': 1\n",
    "}"
   ]
  },
  {
   "cell_type": "code",
   "execution_count": null,
   "metadata": {},
   "outputs": [],
   "source": [
    "import pandas as pd\n",
    "\n",
    "foo_data = {'guitar_player': ['Jimmy Hendrix', 'Slash', 'Joe Satriani', 'Steve Ray Vaughan'],\n",
    "              'guitar_brand': ['Fender', 'Gibson', 'Ibanez', 'Fender'],\n",
    "              'born': ['27/11/1942', '23/07/1965', ' 15/06/1956', '03/10/1954']}\n",
    "\n",
    "df = pd.DataFrame.from_dict(foo_data)\n",
    "\n",
    "writer = pd.ExcelWriter('test.xlsx', engine='xlsxwriter')\n",
    "df.to_excel(writer, sheet_name='Sheet1', index=False)\n",
    "workbook  = writer.book\n",
    "worksheet = writer.sheets['Sheet1']\n",
    "\n",
    "\n",
    "light_gray_format = workbook.add_format({'bg_color': '#F4F4F4', 'border_color': '#646464', 'valign': 'vcenter', 'border': 1})\n",
    "white_format = workbook.add_format({'bg_color': '#FFFFFF', 'border_color': '#646464', 'valign': 'vcenter', 'border': 1})\n",
    "\n",
    "header_format = workbook.add_format({'bold': True,\n",
    "                                     'text_wrap': True,\n",
    "                                     'align': 'center',\n",
    "                                     'valign': 'vcenter',\n",
    "                                     'bg_color': '#008080',\n",
    "                                     'font_color': '#ffffff',\n",
    "                                     'border': 1,\n",
    "                                     'border_color': '#646464'})\n",
    "\n",
    "worksheet.conditional_format('A1:C5', {'type': 'formula',\n",
    "                                        'criteria': '=ROW()=1',\n",
    "                                        'format': header_format})\n",
    "\n",
    "worksheet.conditional_format('A2:C5', {'type': 'formula',\n",
    "                            'criteria': '=EVEN(ROW())=ROW()',\n",
    "                            'format': white_format})\n",
    "\n",
    "worksheet.conditional_format('A2:C5', {'type': 'formula',\n",
    "                            'criteria': '=ODD(ROW())=ROW()',\n",
    "                            'format': light_gray_format})\n",
    "\n",
    "writer.close()"
   ]
  },
  {
   "cell_type": "code",
   "execution_count": null,
   "metadata": {},
   "outputs": [],
   "source": []
  }
 ],
 "metadata": {
  "kernelspec": {
   "display_name": "Python 3",
   "language": "python",
   "name": "python3"
  },
  "language_info": {
   "codemirror_mode": {
    "name": "ipython",
    "version": 3
   },
   "file_extension": ".py",
   "mimetype": "text/x-python",
   "name": "python",
   "nbconvert_exporter": "python",
   "pygments_lexer": "ipython3",
   "version": "3.13.0"
  }
 },
 "nbformat": 4,
 "nbformat_minor": 2
}
